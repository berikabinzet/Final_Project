{
 "cells": [
  {
   "cell_type": "code",
   "execution_count": 51,
   "metadata": {},
   "outputs": [
    {
     "ename": "ModuleNotFoundError",
     "evalue": "No module named 'matplotlib.pyplot.xticks'; 'matplotlib.pyplot' is not a package",
     "output_type": "error",
     "traceback": [
      "\u001b[0;31m---------------------------------------------------------------------------\u001b[0m",
      "\u001b[0;31mModuleNotFoundError\u001b[0m                       Traceback (most recent call last)",
      "\u001b[0;32m<ipython-input-51-3ac2a9eea751>\u001b[0m in \u001b[0;36m<module>\u001b[0;34m\u001b[0m\n\u001b[1;32m      6\u001b[0m \u001b[0;34m\u001b[0m\u001b[0m\n\u001b[1;32m      7\u001b[0m \u001b[0;32mimport\u001b[0m \u001b[0mmatplotlib\u001b[0m\u001b[0;34m.\u001b[0m\u001b[0mpyplot\u001b[0m \u001b[0;32mas\u001b[0m \u001b[0mplt\u001b[0m\u001b[0;34m\u001b[0m\u001b[0;34m\u001b[0m\u001b[0m\n\u001b[0;32m----> 8\u001b[0;31m \u001b[0;32mimport\u001b[0m \u001b[0mmatplotlib\u001b[0m\u001b[0;34m.\u001b[0m\u001b[0mpyplot\u001b[0m\u001b[0;34m.\u001b[0m\u001b[0mxticks\u001b[0m \u001b[0;32mas\u001b[0m \u001b[0mplt\u001b[0m\u001b[0;34m\u001b[0m\u001b[0;34m\u001b[0m\u001b[0m\n\u001b[0m\u001b[1;32m      9\u001b[0m \u001b[0;34m\u001b[0m\u001b[0m\n\u001b[1;32m     10\u001b[0m \u001b[0;32mimport\u001b[0m \u001b[0mseaborn\u001b[0m \u001b[0;32mas\u001b[0m \u001b[0msns\u001b[0m\u001b[0;34m\u001b[0m\u001b[0;34m\u001b[0m\u001b[0m\n",
      "\u001b[0;31mModuleNotFoundError\u001b[0m: No module named 'matplotlib.pyplot.xticks'; 'matplotlib.pyplot' is not a package"
     ]
    }
   ],
   "source": [
    "#importing libraries and packages\n",
    "import pandas as pd\n",
    "import numpy as np\n",
    "import scipy.stats as ss\n",
    "import re\n",
    "\n",
    "import matplotlib.pyplot as plt\n",
    "\n",
    "import seaborn as sns\n",
    "\n",
    "import zipfile\n",
    "import os\n",
    "#pip install linearmodels\n",
    "from linearmodels import PanelOLS\n",
    "import math\n",
    "import statsmodels.formula.api as smf"
   ]
  },
  {
   "cell_type": "code",
   "execution_count": 2,
   "metadata": {},
   "outputs": [],
   "source": [
    "#set your working directory\n",
    "#wd=\"/Users/gargidangwal/Documents/GitHub/Final_Project\"\n",
    "#import zipfile -- for later maybe\n",
    "#with zipfile.ZipFile(\"src/original_data/original_data.zip\") as zip_ref:\n",
    "#    zip_ref.extractall(\"./original_data\") "
   ]
  },
  {
   "cell_type": "code",
   "execution_count": 3,
   "metadata": {},
   "outputs": [],
   "source": [
    "#Load in dataset\n",
    "nlsy_data_raw = pd.read_csv(\"original_data/child_ineq_data.csv\")\n",
    "var_info_raw = pd.read_excel(\"original_data/var_info.xlsx\")"
   ]
  },
  {
   "cell_type": "code",
   "execution_count": 4,
   "metadata": {},
   "outputs": [
    {
     "name": "stdout",
     "output_type": "stream",
     "text": [
      "nlsy_name is unique\n"
     ]
    }
   ],
   "source": [
    "#check for duplicates in nlsy_name\n",
    "if len(var_info_raw) == len(var_info_raw[\"nlsy_name\"].value_counts()):\n",
    "    print(\"nlsy_name is unique\")\n",
    "else:\n",
    "    print(\"nlsy_name is not unique\")"
   ]
  },
  {
   "cell_type": "code",
   "execution_count": 5,
   "metadata": {},
   "outputs": [],
   "source": [
    "# Combine readable_name with survey_year\n",
    "\n",
    "var_info = var_info_raw\n",
    "var_info = var_info.astype({'survey_year':'str'})\n",
    "var_info[\"readable_name_year\"] = var_info[\"readable_name\"] + \"_\" + var_info[\"survey_year\"]\n",
    "\n",
    "# Change the time-invariant readable variable names\n",
    "\n",
    "var_info[\"readable_name_year\"] = var_info[\"readable_name_year\"].str.replace(\"_invariant\",\"\")\n"
   ]
  },
  {
   "cell_type": "code",
   "execution_count": 6,
   "metadata": {},
   "outputs": [],
   "source": [
    "def negative_as_missing(value):\n",
    "    \"\"\"Returns pandas missing for negative values\n",
    "    \n",
    "    Args:\n",
    "    value (string/float/integer): any value\n",
    "    \n",
    "    Returns:\n",
    "    (string/float): pandas missing if value is negative; else value itself\n",
    "    \n",
    "    \"\"\"\n",
    "    \n",
    "    if type(value) != str:\n",
    "        if value < 0:\n",
    "            out = np.nan\n",
    "        else:\n",
    "            out = value\n",
    "    else:\n",
    "        out = value\n",
    "    return out"
   ]
  },
  {
   "cell_type": "code",
   "execution_count": 7,
   "metadata": {},
   "outputs": [],
   "source": [
    "nlsy_df = nlsy_data_raw.applymap(negative_as_missing)"
   ]
  },
  {
   "cell_type": "code",
   "execution_count": 8,
   "metadata": {},
   "outputs": [],
   "source": [
    "### Renaming all variables with readable names\n",
    "name_dict = dict(zip(var_info[\"nlsy_name\"], var_info[\"readable_name_year\"]))\n",
    "# name_dict = dict(zip(var_info[\"nlsy_name\"], var_info[\"readable_name\"]))\n",
    "\n",
    "nlsy_df.rename(columns=(name_dict), inplace=True)"
   ]
  },
  {
   "cell_type": "code",
   "execution_count": 9,
   "metadata": {},
   "outputs": [],
   "source": [
    "### Keep only those variables that are present in NLSY Variable Information file\n",
    "droplist = [i for i in nlsy_df.columns if i not in set(var_info[\"readable_name_year\"])]\n",
    "nlsy_df.drop(droplist,axis=1,inplace=True)"
   ]
  },
  {
   "cell_type": "code",
   "execution_count": 10,
   "metadata": {},
   "outputs": [
    {
     "data": {
      "text/plain": [
       "Index(['individual_id', 'earnings_1978', 'sex', 'participation_1979',\n",
       "       'weeks_worked_1978', 'hours_worked_1978', 'age_1979', 'earnings_1979',\n",
       "       'participation_1980', 'age_1980',\n",
       "       ...\n",
       "       'hours_worked_2011', 'weeks_worked_2011', 'earnings_2013', 'age_2014',\n",
       "       'hours_worked_2013', 'weeks_worked_2013', 'earnings_2015', 'age_2016',\n",
       "       'hours_worked_2015', 'weeks_worked_2015'],\n",
       "      dtype='object', length=129)"
      ]
     },
     "execution_count": 10,
     "metadata": {},
     "output_type": "execute_result"
    }
   ],
   "source": [
    "nlsy_df.columns"
   ]
  },
  {
   "cell_type": "code",
   "execution_count": 11,
   "metadata": {},
   "outputs": [
    {
     "name": "stdout",
     "output_type": "stream",
     "text": [
      "int64\n"
     ]
    }
   ],
   "source": [
    "# Change individual_id into integer (is index variable)\n",
    "print(nlsy_df[\"individual_id\"].dtype)\n",
    "nlsy_df[\"individual_id\"] = nlsy_df[\"individual_id\"].astype(int)"
   ]
  },
  {
   "cell_type": "code",
   "execution_count": 12,
   "metadata": {},
   "outputs": [],
   "source": [
    "### Change from wide to long format\n",
    "varnames_long = set(list(map(lambda x: re.sub(\"\\_[0-9]{4}$\",\"\",x), list(nlsy_df.columns)))[3::])\n",
    "varnames_long\n",
    "\n",
    "nlsy_df_long = pd.wide_to_long(df=nlsy_df,stubnames = varnames_long,i=[\"individual_id\"],j=\"year\",sep = \"_\")"
   ]
  },
  {
   "cell_type": "code",
   "execution_count": 13,
   "metadata": {},
   "outputs": [],
   "source": [
    "#labor market participatiion variable -> 1 if participated 0 if not\n",
    "nlsy_df_long[\"participation\"] = nlsy_df_long[\"participation\"].replace(list([5,6,7]),0)\n",
    "nlsy_df_long[\"participation\"] = nlsy_df_long[\"participation\"].replace(list([2,3,4,8]),1)"
   ]
  },
  {
   "cell_type": "code",
   "execution_count": 14,
   "metadata": {},
   "outputs": [],
   "source": [
    "#load child data\n",
    "child_data_raw = pd.read_csv(\"original_data/child_data.csv\")\n",
    "child_var_info = pd.read_excel(\"original_data/child_var_info.xlsx\")"
   ]
  },
  {
   "cell_type": "code",
   "execution_count": 15,
   "metadata": {},
   "outputs": [],
   "source": [
    "#changing the names of variables\n",
    "name_dict = dict(zip(child_var_info[\"nlsy_name\"], child_var_info[\"readable_name\"]))\n",
    "#adapting the names in the data file accordingly\n",
    "child_data_raw.rename(columns=(name_dict), inplace=True)"
   ]
  },
  {
   "cell_type": "code",
   "execution_count": 16,
   "metadata": {},
   "outputs": [],
   "source": [
    "# Changing data types\n",
    "child_data_raw = child_data_raw.astype({'individual_id':'int', 'first_child':'int'})\n",
    "# Setting individual_id as the index\n",
    "child_data_raw.set_index(['individual_id'], inplace=True)"
   ]
  },
  {
   "cell_type": "code",
   "execution_count": 17,
   "metadata": {},
   "outputs": [],
   "source": [
    "child_data = child_data_raw.applymap(negative_as_missing)\n",
    "child_data = child_data.dropna()"
   ]
  },
  {
   "cell_type": "code",
   "execution_count": 18,
   "metadata": {},
   "outputs": [],
   "source": [
    "# Merging two dataframe, using individual_id and year as indexes\n",
    "df = pd.merge(nlsy_df_long, child_data, how=\"right\", on=[\"individual_id\"], right_index = True)"
   ]
  },
  {
   "cell_type": "code",
   "execution_count": 19,
   "metadata": {},
   "outputs": [],
   "source": [
    "# Creating variables related to the birth of the first child\n",
    "df = df.reset_index()\n",
    "df[\"first_child_birth\"] = np.where(df[\"first_child\"] == df[\"year\"], 1, 0)\n",
    "df[\"event_time\"] = df[\"year\"] - df[\"first_child\"]\n",
    "df[\"any_children\"] = np.where(df[\"event_time\"] < 0, 0, 1)\n",
    "df = df.drop([\"first_child\"], axis=1)"
   ]
  },
  {
   "cell_type": "code",
   "execution_count": 20,
   "metadata": {},
   "outputs": [],
   "source": [
    "#filling missing data in age by using year and current data in age\n",
    "s = df.groupby('individual_id').age.cumcount()\n",
    "s1 = (df.age - s).groupby(df.individual_id).transform('first')\n",
    "\n",
    "df['age'] = s1 + s"
   ]
  },
  {
   "cell_type": "code",
   "execution_count": 21,
   "metadata": {},
   "outputs": [],
   "source": [
    "#setting indices again\n",
    "df.set_index(['individual_id','year'], inplace=True)"
   ]
  },
  {
   "cell_type": "code",
   "execution_count": 22,
   "metadata": {},
   "outputs": [
    {
     "data": {
      "text/plain": [
       "sex                  Int64\n",
       "participation        Int64\n",
       "age                  Int64\n",
       "earnings             Int64\n",
       "hours_worked         Int64\n",
       "weeks_worked         Int64\n",
       "first_child_birth    int64\n",
       "event_time           Int64\n",
       "any_children         Int64\n",
       "dtype: object"
      ]
     },
     "execution_count": 22,
     "metadata": {},
     "output_type": "execute_result"
    }
   ],
   "source": [
    "#changing datatypes\n",
    "df = df.astype({'earnings':'Int64', 'age':'Int64','sex':'Int64',\n",
    "                'any_children':'Int64','participation':'Int64',\n",
    "                'weeks_worked':'Int64','hours_worked':'Int64','event_time':'Int64'})\n",
    "df.dtypes"
   ]
  },
  {
   "cell_type": "code",
   "execution_count": 23,
   "metadata": {},
   "outputs": [
    {
     "data": {
      "text/html": [
       "<div>\n",
       "<style scoped>\n",
       "    .dataframe tbody tr th:only-of-type {\n",
       "        vertical-align: middle;\n",
       "    }\n",
       "\n",
       "    .dataframe tbody tr th {\n",
       "        vertical-align: top;\n",
       "    }\n",
       "\n",
       "    .dataframe thead th {\n",
       "        text-align: right;\n",
       "    }\n",
       "</style>\n",
       "<table border=\"1\" class=\"dataframe\">\n",
       "  <thead>\n",
       "    <tr style=\"text-align: right;\">\n",
       "      <th></th>\n",
       "      <th>earnings</th>\n",
       "      <th>weeks_worked</th>\n",
       "      <th>age</th>\n",
       "      <th>hours_worked</th>\n",
       "      <th>sex</th>\n",
       "    </tr>\n",
       "  </thead>\n",
       "  <tbody>\n",
       "    <tr>\n",
       "      <th>count</th>\n",
       "      <td>176614.000000</td>\n",
       "      <td>197601.000000</td>\n",
       "      <td>364455.000000</td>\n",
       "      <td>195136.000000</td>\n",
       "      <td>364455.000000</td>\n",
       "    </tr>\n",
       "    <tr>\n",
       "      <th>mean</th>\n",
       "      <td>19865.984814</td>\n",
       "      <td>35.105172</td>\n",
       "      <td>35.803531</td>\n",
       "      <td>1446.200312</td>\n",
       "      <td>1.528732</td>\n",
       "    </tr>\n",
       "    <tr>\n",
       "      <th>std</th>\n",
       "      <td>32164.487103</td>\n",
       "      <td>21.201681</td>\n",
       "      <td>11.485393</td>\n",
       "      <td>1048.693265</td>\n",
       "      <td>0.499174</td>\n",
       "    </tr>\n",
       "    <tr>\n",
       "      <th>min</th>\n",
       "      <td>0.000000</td>\n",
       "      <td>0.000000</td>\n",
       "      <td>13.000000</td>\n",
       "      <td>0.000000</td>\n",
       "      <td>1.000000</td>\n",
       "    </tr>\n",
       "    <tr>\n",
       "      <th>25%</th>\n",
       "      <td>544.250000</td>\n",
       "      <td>14.000000</td>\n",
       "      <td>26.000000</td>\n",
       "      <td>360.000000</td>\n",
       "      <td>1.000000</td>\n",
       "    </tr>\n",
       "    <tr>\n",
       "      <th>50%</th>\n",
       "      <td>11000.000000</td>\n",
       "      <td>50.000000</td>\n",
       "      <td>36.000000</td>\n",
       "      <td>1755.000000</td>\n",
       "      <td>2.000000</td>\n",
       "    </tr>\n",
       "    <tr>\n",
       "      <th>75%</th>\n",
       "      <td>26000.000000</td>\n",
       "      <td>52.000000</td>\n",
       "      <td>46.000000</td>\n",
       "      <td>2080.000000</td>\n",
       "      <td>2.000000</td>\n",
       "    </tr>\n",
       "    <tr>\n",
       "      <th>max</th>\n",
       "      <td>370314.000000</td>\n",
       "      <td>57.000000</td>\n",
       "      <td>59.000000</td>\n",
       "      <td>8736.000000</td>\n",
       "      <td>2.000000</td>\n",
       "    </tr>\n",
       "  </tbody>\n",
       "</table>\n",
       "</div>"
      ],
      "text/plain": [
       "            earnings   weeks_worked            age   hours_worked  \\\n",
       "count  176614.000000  197601.000000  364455.000000  195136.000000   \n",
       "mean    19865.984814      35.105172      35.803531    1446.200312   \n",
       "std     32164.487103      21.201681      11.485393    1048.693265   \n",
       "min         0.000000       0.000000      13.000000       0.000000   \n",
       "25%       544.250000      14.000000      26.000000     360.000000   \n",
       "50%     11000.000000      50.000000      36.000000    1755.000000   \n",
       "75%     26000.000000      52.000000      46.000000    2080.000000   \n",
       "max    370314.000000      57.000000      59.000000    8736.000000   \n",
       "\n",
       "                 sex  \n",
       "count  364455.000000  \n",
       "mean        1.528732  \n",
       "std         0.499174  \n",
       "min         1.000000  \n",
       "25%         1.000000  \n",
       "50%         2.000000  \n",
       "75%         2.000000  \n",
       "max         2.000000  "
      ]
     },
     "execution_count": 23,
     "metadata": {},
     "output_type": "execute_result"
    }
   ],
   "source": [
    "#Summary statistics\n",
    "df[[\"earnings\", \"weeks_worked\", \"age\", \"hours_worked\",\"sex\"]].describe()"
   ]
  },
  {
   "cell_type": "code",
   "execution_count": 24,
   "metadata": {},
   "outputs": [
    {
     "name": "stderr",
     "output_type": "stream",
     "text": [
      "<ipython-input-24-48fc0645c06c>:2: SettingWithCopyWarning: \n",
      "A value is trying to be set on a copy of a slice from a DataFrame.\n",
      "Try using .loc[row_indexer,col_indexer] = value instead\n",
      "\n",
      "See the caveats in the documentation: https://pandas.pydata.org/pandas-docs/stable/user_guide/indexing.html#returning-a-view-versus-a-copy\n",
      "  df2['female'] = np.where(df2[\"sex\"] == 2, 1, 0)\n"
     ]
    },
    {
     "data": {
      "image/png": "[encoded data removed]",
      "text/plain": [
       "<Figure size 1080x1080 with 2 Axes>"
      ]
     },
     "metadata": {
      "needs_background": "light"
     },
     "output_type": "display_data"
    }
   ],
   "source": [
    "df2 = df.dropna()\n",
    "df2['female'] = np.where(df2[\"sex\"] == 2, 1, 0)\n",
    "subscales_selection = [\"female\",\"earnings\",'participation','any_children','hours_worked','weeks_worked']\n",
    "subscale_items_columns = []\n",
    "\n",
    "for subscale in subscales_selection:\n",
    "    subscale_items = list(filter(lambda x: x.startswith(subscale), df2.columns))\n",
    "    subscale_items_columns = subscale_items_columns + subscale_items\n",
    "\n",
    "subscale_items_columns\n",
    "\n",
    "### Calculate correlation matrix \n",
    "\n",
    "corr_matrix = df2[subscale_items_columns].corr()\n",
    "\n",
    "### Create figure\n",
    "\n",
    "mask = np.zeros_like(corr_matrix)\n",
    "mask[np.triu_indices_from(mask)] = True\n",
    "fig_heatmap, axs = plt.subplots(figsize=(15, 15))\n",
    "axs = sns.heatmap(\n",
    "    corr_matrix, annot=True, fmt=\".2f\", vmin=-1, vmax=1, mask=mask, square=True, center=0\n",
    ")\n",
    "plt.show()\n"
   ]
  },
  {
   "cell_type": "code",
   "execution_count": 25,
   "metadata": {
    "scrolled": true
   },
   "outputs": [],
   "source": [
    "#restricting the dataset 5 years before and 10 years after the birth of first child\n",
    "indexNames = df[(df[\"event_time\"] > 10) | (df[\"event_time\"] < -5)].index\n",
    "indexNames\n",
    "df.drop(indexNames , inplace=True)"
   ]
  },
  {
   "cell_type": "code",
   "execution_count": 26,
   "metadata": {},
   "outputs": [],
   "source": [
    "#generating the event_time dummies (where t=-1 is omitted, implying that the event time coefficients measure\n",
    "#the impact of children relative to the year just before the first child birth)\n",
    "dummies = pd.get_dummies(df['event_time'])\n",
    "dummies.columns = [ 'event_time_' + str(dummies) for dummies in range(1,17) ]\n",
    "dummies = dummies.drop([\"event_time_5\"], axis=1)\n",
    "df = pd.concat([df, dummies], axis=1)"
   ]
  },
  {
   "cell_type": "code",
   "execution_count": 27,
   "metadata": {},
   "outputs": [],
   "source": [
    "#creating two datasets for female and male\n",
    "df_female = df[df[\"sex\"]==2]\n",
    "df_male = df[df[\"sex\"]==1]"
   ]
  },
  {
   "cell_type": "code",
   "execution_count": 28,
   "metadata": {},
   "outputs": [],
   "source": [
    "#creating lists for outcome, gender and result ---- need to check more efficient way for result\n",
    "outcome = [\"hours_worked\",\"participation\",\"earnings\"] \n",
    "#sex = [1, 2]\n",
    "#result = pd.DataFrame(data = {'outcome': [\"hours_worked\",\"participation\",\"earnings\",\"hours_worked\",\"participation\",\"earnings\"], 'sex': [1,1,1,2,2,2]})\n",
    "result_male = pd.DataFrame(data = {'outcome': [\"hours_worked\",\"participation\",\"earnings\"]})\n",
    "result_female = pd.DataFrame(data = {'outcome': [\"hours_worked\",\"participation\",\"earnings\"]})\n",
    "                              \n",
    "#result = pd.DataFrame(data = {'outcome': [\"hours_worked\",\"participation\",\"earnings\",\"hours_worked\",\"participation\",\"earnings\"], 'sex': [\"male\",\"male\",\"male\", \"female\",\"female\",\"female\"]})"
   ]
  },
  {
   "cell_type": "code",
   "execution_count": 29,
   "metadata": {},
   "outputs": [],
   "source": [
    "#creating a function to create balanced datasets\n",
    "def gen_balance_df(data, value):\n",
    "    df_1 = data.groupby(level = 0)[[value]].apply(lambda x: x.isna().sum())\n",
    "    df_balance = df.loc[df_1.loc[df_1[value]== 0].index]\n",
    "    df_balance = df_balance.astype(float)\n",
    "    return df_balance"
   ]
  },
  {
   "cell_type": "code",
   "execution_count": 30,
   "metadata": {},
   "outputs": [],
   "source": [
    "#resetting the index to be able to use year as fixed effect in the regression\n",
    "df = df.reset_index()"
   ]
  },
  {
   "cell_type": "code",
   "execution_count": 31,
   "metadata": {},
   "outputs": [],
   "source": [
    "#defining a regression function and result dataframe for each event_time variable\n",
    "def get_reg_result (data, outcome, result_df ):\n",
    "    form = outcome + \"~  C(age) + C(year) + event_time_1 + event_time_2 + event_time_3 + event_time_4 + event_time_6 + event_time_7 + event_time_8 +event_time_9 + event_time_10 + event_time_11 + event_time_12 + event_time_13 + event_time_14 + event_time_15 + event_time_16\"\n",
    "    mod = smf.ols(formula=form, data = data)\n",
    "    res = mod.fit()#add robust SE\n",
    "\n",
    "    #result_df.loc[ (result_df[\"outcome\"] == outcome  & result_df[\"gender\"] == gender) , \"OLS Parameter\"] = res.params[\"event_time_2\"].round(3)\n",
    "    #result_df.loc[ (result_df[\"outcome\"] == outcome  & result_df[\"gender\"] == gender), \"OLS SE\"] = res.bse[\"event_time_2\"].round(3)\n",
    "    #result_df.loc[ (result_df[\"outcome\"] == outcome  & result_df[\"sex\"] == sex), \"OLS P Value\"] = res.pvalues[\"event_time_2\"] \n",
    "    result_df.loc[ (result_df[\"outcome\"] == outcome)   , \"β1\"] = res.params[\"event_time_1\"].round(3)\n",
    "    result_df.loc[ (result_df[\"outcome\"] == outcome)   , \"β2\"] = res.params[\"event_time_2\"].round(3)\n",
    "    result_df.loc[ (result_df[\"outcome\"] == outcome)   , \"β3\"] = res.params[\"event_time_3\"].round(3)\n",
    "    result_df.loc[ (result_df[\"outcome\"] == outcome)   , \"β4\"] = res.params[\"event_time_4\"].round(3)\n",
    "    result_df.loc[ (result_df[\"outcome\"] == outcome)   , \"β6\"] = res.params[\"event_time_6\"].round(3)\n",
    "    result_df.loc[ (result_df[\"outcome\"] == outcome)   , \"β7\"] = res.params[\"event_time_7\"].round(3)\n",
    "    result_df.loc[ (result_df[\"outcome\"] == outcome)   , \"β8\"] = res.params[\"event_time_8\"].round(3)\n",
    "    result_df.loc[ (result_df[\"outcome\"] == outcome)   , \"β9\"] = res.params[\"event_time_9\"].round(3)\n",
    "    result_df.loc[ (result_df[\"outcome\"] == outcome)   , \"β10\"] = res.params[\"event_time_10\"].round(3)\n",
    "    result_df.loc[ (result_df[\"outcome\"] == outcome)   , \"β11\"] = res.params[\"event_time_11\"].round(3)\n",
    "    result_df.loc[ (result_df[\"outcome\"] == outcome)   , \"β12\"] = res.params[\"event_time_12\"].round(3)\n",
    "    result_df.loc[ (result_df[\"outcome\"] == outcome)   , \"β13\"] = res.params[\"event_time_13\"].round(3)\n",
    "    result_df.loc[ (result_df[\"outcome\"] == outcome)   , \"β14\"] = res.params[\"event_time_14\"].round(3)\n",
    "    result_df.loc[ (result_df[\"outcome\"] == outcome)   , \"β15\"] = res.params[\"event_time_15\"].round(3)\n",
    "    result_df.loc[ (result_df[\"outcome\"] == outcome)   , \"β16\"] = res.params[\"event_time_16\"].round(3)\n",
    "    #result_df.loc[ (result_df[\"outcome\"] == outcome) , \"OLS SE\"] = res.bse[\"event_time_2\"].round(3)\n",
    "    #result_df.loc[ (result_df[\"outcome\"] == outcome), \"OLS P Value\"] = res.pvalues[\"event_time_2\"] "
   ]
  },
  {
   "cell_type": "code",
   "execution_count": 32,
   "metadata": {},
   "outputs": [],
   "source": [
    "#creating balanced datasets and running regressions for male and female datasets separately\n",
    "for i in outcome:\n",
    "        df_balance = gen_balance_df (df_female , i)\n",
    "        get_reg_result(df_balance, i,  result_female)"
   ]
  },
  {
   "cell_type": "code",
   "execution_count": 33,
   "metadata": {},
   "outputs": [],
   "source": [
    "#creating balanced datasets and running regressions for male and female datasets separately\n",
    "for i in outcome:\n",
    "        df_balance = gen_balance_df (df_male , i)\n",
    "        get_reg_result(df_balance, i,  result_male)"
   ]
  },
  {
   "cell_type": "code",
   "execution_count": 34,
   "metadata": {},
   "outputs": [],
   "source": [
    "#renaming the results properly to be able to distinguish between male and female\n",
    "result_male[\"outcome\"].replace({\"hours_worked\": \"hours_worked_male\",\n",
    "                                \"participation\": \"participation_male\",\"earnings\": \"earnings_male\" }, inplace=True)\n",
    "result_female[\"outcome\"].replace({\"hours_worked\": \"hours_worked_female\",\n",
    "                                \"participation\": \"participation_female\",\"earnings\": \"earnings_female\" }, inplace=True)"
   ]
  },
  {
   "cell_type": "code",
   "execution_count": 35,
   "metadata": {},
   "outputs": [],
   "source": [
    "#appending male and female results in one dataset\n",
    "result = result_male.append(result_female, ignore_index = True)"
   ]
  },
  {
   "cell_type": "code",
   "execution_count": 36,
   "metadata": {},
   "outputs": [],
   "source": [
    "#changing dataset to make it easier to plot\n",
    "result_tr = result.transpose()\n",
    "result_tr.columns = result_tr.iloc[0]\n",
    "result_tr = result_tr.drop('outcome',axis=0)"
   ]
  },
  {
   "cell_type": "code",
   "execution_count": 40,
   "metadata": {},
   "outputs": [],
   "source": [
    "#adding back event_time_5 which was dropped before\n",
    "β5 = pd.DataFrame({\"hours_worked_male\":0, \"participation_male\": 0, \"earnings_male\": 0,\"hours_worked_female\":0, \"participation_female\": 0, \"earnings_female\": 0 }, index=[\"β5\"])\n",
    "result_tr = pd.concat([result_tr.iloc[:4],β5,result_tr.iloc[4:]] )\n",
    "result_tr[\"event_time\"] = [-5, -4 , -3, -2, -1 ,0, 1, 2, 3, 4, 5, 6, 7, 8, 9, 10]"
   ]
  },
  {
   "cell_type": "code",
   "execution_count": null,
   "metadata": {},
   "outputs": [],
   "source": [
    "from matplotlib import pyplot as plt\n",
    "import numpy as np\n",
    "\n",
    "#some example data\n",
    "x= np.linspace(0.1, 9.9, 20)\n",
    "y = 3.0 * x\n",
    "#some confidence interval\n",
    "ci = 1.96 * np.std(y)/np.mean(y)\n",
    "\n",
    "fig, ax = plt.subplots()\n",
    "ax.plot(x,y)\n",
    "ax.fill_between(x, (y-ci), (y+ci), color='b', alpha=.1)"
   ]
  },
  {
   "cell_type": "code",
   "execution_count": 107,
   "metadata": {},
   "outputs": [],
   "source": [
    "def gen_confidence_interval(value):\n",
    "    ci = 1.96 * np.std(result_tr[value])/np.mean(result_tr[value])\n",
    "    return ci"
   ]
  },
  {
   "cell_type": "code",
   "execution_count": 132,
   "metadata": {},
   "outputs": [],
   "source": [
    "for i in [\"hours_worked_male\",\"participation_male\",\"earnings_male\",\"hours_worked_female\",\"participation_female\",\"earnings_female\"]:\n",
    "    confidence_interval =  gen_confidence_interval(i)\n",
    "    result_tr[\"SE\"] = confidence_interval"
   ]
  },
  {
   "cell_type": "code",
   "execution_count": 82,
   "metadata": {},
   "outputs": [
    {
     "data": {
      "text/plain": [
       "<matplotlib.lines.Line2D at 0x7fe04291a6a0>"
      ]
     },
     "execution_count": 82,
     "metadata": {},
     "output_type": "execute_result"
    },
    {
     "data": {
      "image/png": "[encoded data removed]",
      "text/plain": [
       "<Figure size 1440x720 with 1 Axes>"
      ]
     },
     "metadata": {
      "needs_background": "light"
     },
     "output_type": "display_data"
    }
   ],
   "source": [
    "result_tr.plot(x='event_time', y=['hours_worked_male', 'hours_worked_female'], figsize=(20,10), grid=True)\n",
    "plt.axvline(x=-0.5, ymin = -1000, ymax = 100)\n"
   ]
  },
  {
   "cell_type": "code",
   "execution_count": null,
   "metadata": {},
   "outputs": [],
   "source": []
  }
 ],
 "metadata": {
  "kernelspec": {
   "display_name": "Python 3",
   "language": "python",
   "name": "python3"
  },
  "language_info": {
   "codemirror_mode": {
    "name": "ipython",
    "version": 3
   },
   "file_extension": ".py",
   "mimetype": "text/x-python",
   "name": "python",
   "nbconvert_exporter": "python",
   "pygments_lexer": "ipython3",
   "version": "3.8.3"
  }
 },
 "nbformat": 4,
 "nbformat_minor": 4
}
